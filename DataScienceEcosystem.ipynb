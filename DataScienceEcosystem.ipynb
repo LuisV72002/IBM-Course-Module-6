{
 "cells": [
  {
   "cell_type": "markdown",
   "id": "77473eb7-a330-438a-846a-e6f63ae49da1",
   "metadata": {},
   "source": [
    "# Data Science Tools and Ecosystem"
   ]
  },
  {
   "cell_type": "markdown",
   "id": "3156774d-bb97-48bd-bfe0-100a8e01db08",
   "metadata": {},
   "source": [
    "In this notebook, Data Science Tools and Ecosystem are summarized."
   ]
  },
  {
   "cell_type": "markdown",
   "id": "5b8394c9-d657-42a1-976a-3e878aba12d3",
   "metadata": {},
   "source": [
    " Some of the popular languages that Data Scientists use are\n",
    " 1. Python\n",
    " 2. R\n",
    " 3. SQL"
   ]
  },
  {
   "cell_type": "markdown",
   "id": "414669d8-0357-4aad-bf8a-12c5c602a28b",
   "metadata": {},
   "source": [
    "Some of the commonly used libraries used by Data Scientists include: \n",
    "1. Pandas\n",
    "2. Numpy\n",
    "3. Matplotlib"
   ]
  },
  {
   "cell_type": "markdown",
   "id": "4513a07b-e8bd-4b14-9189-854dc73154da",
   "metadata": {},
   "source": [
    "| Data Science Tools |\n",
    "| ------------------ |\n",
    "| Jupyter Notebook   |\n",
    "| RStudio            |\n",
    "| Apache Spark       |\n"
   ]
  },
  {
   "cell_type": "markdown",
   "id": "dfd29f09-eab2-41cc-84ff-5d7eb13ca551",
   "metadata": {},
   "source": [
    "### Below are a few examples of evaluating arithmetic expressions in Python"
   ]
  },
  {
   "cell_type": "code",
   "execution_count": 8,
   "id": "16c3ff19-df9a-4b91-972b-1a4afcacae74",
   "metadata": {},
   "outputs": [
    {
     "data": {
      "text/plain": [
       "17"
      ]
     },
     "execution_count": 8,
     "metadata": {},
     "output_type": "execute_result"
    }
   ],
   "source": [
    "# This is a simple arithmetic expression to mutipy then add integers \n",
    "(3*4)+5"
   ]
  },
  {
   "cell_type": "code",
   "execution_count": 10,
   "id": "e2974310-2e64-4e94-8e9b-a6cb7be69b57",
   "metadata": {},
   "outputs": [
    {
     "data": {
      "text/plain": [
       "3.3333333333333335"
      ]
     },
     "execution_count": 10,
     "metadata": {},
     "output_type": "execute_result"
    }
   ],
   "source": [
    "# This will convert 200 minutes to hours by diving by 60\n",
    "200/60"
   ]
  },
  {
   "cell_type": "markdown",
   "id": "897be620-5788-4b49-bec4-25c7229ac3c6",
   "metadata": {},
   "source": [
    "**Objetives:**\n",
    "- List Popular languages for Data Science\n",
    "- List Popular tools for Data Science\n",
    "- List Pupular libraries for Data Science\n",
    "- Arithmetic Expression"
   ]
  },
  {
   "cell_type": "markdown",
   "id": "96841391-ffbe-4da1-a35a-5eec7f8cc403",
   "metadata": {},
   "source": [
    "## Author\n",
    "Luis Patiño"
   ]
  },
  {
   "cell_type": "code",
   "execution_count": null,
   "id": "b85f4b50-cacd-4b53-abb7-e7d66284d075",
   "metadata": {},
   "outputs": [],
   "source": []
  }
 ],
 "metadata": {
  "kernelspec": {
   "display_name": "Python [conda env:base] *",
   "language": "python",
   "name": "conda-base-py"
  },
  "language_info": {
   "codemirror_mode": {
    "name": "ipython",
    "version": 3
   },
   "file_extension": ".py",
   "mimetype": "text/x-python",
   "name": "python",
   "nbconvert_exporter": "python",
   "pygments_lexer": "ipython3",
   "version": "3.12.7"
  }
 },
 "nbformat": 4,
 "nbformat_minor": 5
}
